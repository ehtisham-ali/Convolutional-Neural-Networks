{
  "nbformat": 4,
  "nbformat_minor": 0,
  "metadata": {
    "colab": {
      "name": "MNIST.ipynb",
      "provenance": [],
      "private_outputs": true,
      "collapsed_sections": []
    },
    "kernelspec": {
      "name": "python3",
      "display_name": "Python 3"
    },
    "accelerator": "GPU"
  },
  "cells": [
    {
      "cell_type": "markdown",
      "metadata": {
        "id": "OhCczcGkEjWx",
        "colab_type": "text"
      },
      "source": [
        "MNIST Example for basic classification"
      ]
    },
    {
      "cell_type": "code",
      "metadata": {
        "id": "fjmNypiZEfXu",
        "colab_type": "code",
        "colab": {}
      },
      "source": [
        "from __future__ import absolute_import, division, print_function, unicode_literals\n",
        "\n",
        "# TensorFlow and tf.keras\n",
        "import tensorflow as tf\n",
        "from tensorflow import keras\n",
        "from tensorflow.keras import layers\n",
        "from tensorflow.keras.layers import Input, Dense, Activation, ZeroPadding2D, BatchNormalization, Flatten, Conv2D, Conv1D\n",
        "from tensorflow.keras.layers import MaxPooling2D, Dropout,GlobalAveragePooling2D\n",
        "from tensorflow.keras.models import Sequential,Model\n",
        "from tensorflow.keras.utils import to_categorical\n",
        "\n",
        "# Helper libraries\n",
        "import numpy as np\n",
        "import matplotlib.pyplot as plt\n",
        "\n",
        "print(tf.__version__)"
      ],
      "execution_count": 0,
      "outputs": []
    },
    {
      "cell_type": "markdown",
      "metadata": {
        "id": "8wsqjtmEFQWM",
        "colab_type": "text"
      },
      "source": [
        "Download and Use the MNIST FAshion dataset"
      ]
    },
    {
      "cell_type": "code",
      "metadata": {
        "id": "kg7VtwvoE1Xl",
        "colab_type": "code",
        "colab": {}
      },
      "source": [
        "fashion_mnist = keras.datasets.fashion_mnist\n",
        "\n",
        "(train_images, train_labels), (test_images, test_labels) = fashion_mnist.load_data()"
      ],
      "execution_count": 0,
      "outputs": []
    },
    {
      "cell_type": "code",
      "metadata": {
        "id": "uOSuGLzJFwEV",
        "colab_type": "code",
        "colab": {}
      },
      "source": [
        "print(train_images.shape)\n",
        "print(train_labels.shape)\n",
        "print('\\n')\n",
        "print(test_images.shape)"
      ],
      "execution_count": 0,
      "outputs": []
    },
    {
      "cell_type": "markdown",
      "metadata": {
        "id": "1HhDwxOzGQze",
        "colab_type": "text"
      },
      "source": [
        "ADD the Names for Labels "
      ]
    },
    {
      "cell_type": "code",
      "metadata": {
        "id": "7_vwGviOGUAc",
        "colab_type": "code",
        "colab": {}
      },
      "source": [
        "class_names = ['T-shirt/top', 'Trouser', 'Pullover', 'Dress', 'Coat',\n",
        "               'Sandal', 'Shirt', 'Sneaker', 'Bag', 'Ankle boot']"
      ],
      "execution_count": 0,
      "outputs": []
    },
    {
      "cell_type": "code",
      "metadata": {
        "id": "PXeW9yfPGYRg",
        "colab_type": "code",
        "colab": {}
      },
      "source": [
        "print(type(class_names))"
      ],
      "execution_count": 0,
      "outputs": []
    },
    {
      "cell_type": "markdown",
      "metadata": {
        "id": "VYu78mp6IIMO",
        "colab_type": "text"
      },
      "source": [
        "Pre-Processing the Data"
      ]
    },
    {
      "cell_type": "code",
      "metadata": {
        "id": "5DPqzwG0IFmm",
        "colab_type": "code",
        "colab": {}
      },
      "source": [
        "plt.figure()\n",
        "plt.imshow(train_images[0])\n",
        "plt.colorbar()\n",
        "plt.grid(False)\n",
        "plt.show()"
      ],
      "execution_count": 0,
      "outputs": []
    },
    {
      "cell_type": "code",
      "metadata": {
        "id": "3ef1l5DfI-hj",
        "colab_type": "code",
        "colab": {}
      },
      "source": [
        "train_images = train_images / 255.0\n",
        "\n",
        "test_images = test_images / 255.0"
      ],
      "execution_count": 0,
      "outputs": []
    },
    {
      "cell_type": "code",
      "metadata": {
        "id": "3Hidgo13Ii6o",
        "colab_type": "code",
        "colab": {}
      },
      "source": [
        "plt.figure(figsize=(10,10))\n",
        "for i in range(25):\n",
        "    plt.subplot(5,5,i+1)\n",
        "    plt.xticks([])\n",
        "    plt.yticks([])\n",
        "    plt.grid(False)\n",
        "    plt.imshow(train_images[i], cmap=plt.cm.binary)\n",
        "    plt.xlabel(class_names[train_labels[i]])\n",
        "plt.show()"
      ],
      "execution_count": 0,
      "outputs": []
    },
    {
      "cell_type": "markdown",
      "metadata": {
        "id": "2OkNvMLSMZIC",
        "colab_type": "text"
      },
      "source": [
        "SetUp the Layers"
      ]
    },
    {
      "cell_type": "code",
      "metadata": {
        "id": "gedJfs8wMYgs",
        "colab_type": "code",
        "colab": {}
      },
      "source": [
        "model = keras.Sequential([\n",
        "    keras.layers.Flatten(input_shape=(28, 28)),\n",
        "    keras.layers.Dense(128, activation=tf.nn.relu),\n",
        "    keras.layers.Dense(64, activation=tf.nn.relu),\n",
        "    keras.layers.Dense(10, activation=tf.nn.softmax)\n",
        "])"
      ],
      "execution_count": 0,
      "outputs": []
    },
    {
      "cell_type": "code",
      "metadata": {
        "id": "qOLaiJEaMesk",
        "colab_type": "code",
        "colab": {}
      },
      "source": [
        "model.compile(optimizer='adam',\n",
        "              loss='sparse_categorical_crossentropy',\n",
        "              metrics=['accuracy'])"
      ],
      "execution_count": 0,
      "outputs": []
    },
    {
      "cell_type": "code",
      "metadata": {
        "id": "KPicIAkUhPWf",
        "colab_type": "code",
        "colab": {}
      },
      "source": [
        "print(train_labels.shape)"
      ],
      "execution_count": 0,
      "outputs": []
    },
    {
      "cell_type": "code",
      "metadata": {
        "id": "BTvrlC1KNK9r",
        "colab_type": "code",
        "colab": {}
      },
      "source": [
        "model.fit(train_images, train_labels, batch_size= 100, epochs=20)"
      ],
      "execution_count": 0,
      "outputs": []
    },
    {
      "cell_type": "code",
      "metadata": {
        "id": "IG85vlXuNp5I",
        "colab_type": "code",
        "colab": {}
      },
      "source": [
        "test_loss, test_acc = model.evaluate(test_images, test_labels)\n",
        "\n",
        "print('Test accuracy:', test_acc)"
      ],
      "execution_count": 0,
      "outputs": []
    },
    {
      "cell_type": "markdown",
      "metadata": {
        "id": "1IwxdWzTR3v3",
        "colab_type": "text"
      },
      "source": [
        "Make Predictions"
      ]
    },
    {
      "cell_type": "code",
      "metadata": {
        "id": "oCoTU1TfR5rC",
        "colab_type": "code",
        "colab": {}
      },
      "source": [
        "predictions = model.predict(test_images)\n",
        "print(predictions[0])\n",
        "\n",
        "print(np.argmax(predictions[0]))\n",
        "\n",
        "print('The true Lable for the image is    ',test_labels[0])"
      ],
      "execution_count": 0,
      "outputs": []
    },
    {
      "cell_type": "markdown",
      "metadata": {
        "id": "jLLAQsCISWDS",
        "colab_type": "text"
      },
      "source": [
        "Functions to Plot the Graphs"
      ]
    },
    {
      "cell_type": "code",
      "metadata": {
        "id": "Oclv-izhSVpm",
        "colab_type": "code",
        "colab": {}
      },
      "source": [
        "def plot_image(i, predictions_array, true_label, img):\n",
        "  predictions_array, true_label, img = predictions_array[i], true_label[i], img[i]\n",
        "  plt.grid(False)\n",
        "  plt.xticks([])\n",
        "  plt.yticks([])\n",
        "  \n",
        "  plt.imshow(img, cmap=plt.cm.binary)\n",
        "  \n",
        "  predicted_label = np.argmax(predictions_array)\n",
        "  if predicted_label == true_label:\n",
        "    color = 'blue'\n",
        "  else:\n",
        "    color = 'red'\n",
        "  \n",
        "  plt.xlabel(\"{} {:2.0f}% ({})\".format(class_names[predicted_label],\n",
        "                                100*np.max(predictions_array),\n",
        "                                class_names[true_label]),\n",
        "                                color=color)\n",
        "\n",
        "  \n",
        "def plot_value_array(i, predictions_array, true_label):\n",
        "  predictions_array, true_label = predictions_array[i], true_label[i]\n",
        "  plt.grid(False)\n",
        "  plt.xticks([])\n",
        "  plt.yticks([])\n",
        "  thisplot = plt.bar(range(10), predictions_array, color=\"#777777\")\n",
        "  plt.ylim([0, 1])\n",
        "  predicted_label = np.argmax(predictions_array)\n",
        "  \n",
        "  thisplot[predicted_label].set_color('red')\n",
        "  thisplot[true_label].set_color('blue')"
      ],
      "execution_count": 0,
      "outputs": []
    },
    {
      "cell_type": "markdown",
      "metadata": {
        "id": "DyV9BgYODCu9",
        "colab_type": "text"
      },
      "source": [
        "Let's look at the 0th image, predictions, and prediction array. Correct prediction labels are blue and incorrect prediction labels are red. The number gives the percentage (out of 100) for the predicted label."
      ]
    },
    {
      "cell_type": "code",
      "metadata": {
        "id": "6VTxf5psSd_J",
        "colab_type": "code",
        "colab": {}
      },
      "source": [
        "i = 4\n",
        "plt.figure(figsize=(6,3))\n",
        "plt.subplot(1,2,1)\n",
        "plot_image(i, predictions, test_labels, test_images)\n",
        "plt.subplot(1,2,2)\n",
        "plot_value_array(i, predictions,  test_labels)\n",
        "plt.show()"
      ],
      "execution_count": 0,
      "outputs": []
    },
    {
      "cell_type": "markdown",
      "metadata": {
        "id": "H_FQ0eJM9HE9",
        "colab_type": "text"
      },
      "source": [
        "Compare the performance of Convolutional Neural Network with Dense Network on the MNIST Fashion dataset"
      ]
    },
    {
      "cell_type": "markdown",
      "metadata": {
        "id": "6wlm5wUMy2S2",
        "colab_type": "text"
      },
      "source": [
        "Prepare the Data. Reshape each image from (28,28) to (28,28,1) because Keras Conv2D requires the third dimesnsion. "
      ]
    },
    {
      "cell_type": "code",
      "metadata": {
        "id": "kvojf1_Zy0sw",
        "colab_type": "code",
        "colab": {}
      },
      "source": [
        "print(type(train_images))\n",
        "print('\\n')\n",
        "\n",
        "print(train_images.shape)\n",
        "print(test_images.shape)\n",
        "print('\\n')\n",
        "\n",
        "train_images_CNN = np.expand_dims(train_images, axis=3)\n",
        "test_images_CNN = np.expand_dims(test_images, axis=3)\n",
        "\n",
        "print(train_images_CNN.shape)\n",
        "print(test_images_CNN.shape)\n"
      ],
      "execution_count": 0,
      "outputs": []
    },
    {
      "cell_type": "code",
      "metadata": {
        "id": "P5r0T0oy5tkb",
        "colab_type": "code",
        "colab": {}
      },
      "source": [
        "print(train_labels[0:10])"
      ],
      "execution_count": 0,
      "outputs": []
    },
    {
      "cell_type": "code",
      "metadata": {
        "id": "T9yUc8OZ9GpO",
        "colab_type": "code",
        "colab": {}
      },
      "source": [
        "CNNmodel = Sequential()\n",
        "\n",
        "CNNmodel.add(Conv2D(32, (3,3), input_shape=(28,28,1), padding='same', name = 'con_layer_1'))\n",
        "CNNmodel.add(BatchNormalization())\n",
        "CNNmodel.add(layers.Activation(\"relu\"))\n",
        "CNNmodel.add(MaxPooling2D(pool_size = (2,2)))\n",
        "\n",
        "CNNmodel.add(Flatten())\n",
        "\n",
        "CNNmodel.add(Dense(256, activation='relu', name = 'dense_1'))\n",
        "\n",
        "CNNmodel.add(Dense(10, activation='softmax', name = 'final'))"
      ],
      "execution_count": 0,
      "outputs": []
    },
    {
      "cell_type": "markdown",
      "metadata": {
        "id": "huiM4yhNCHvN",
        "colab_type": "text"
      },
      "source": [
        "View the Sumamry of CNN model"
      ]
    },
    {
      "cell_type": "code",
      "metadata": {
        "id": "yBmErY7G9G6G",
        "colab_type": "code",
        "colab": {}
      },
      "source": [
        "CNNmodel.summary()"
      ],
      "execution_count": 0,
      "outputs": []
    },
    {
      "cell_type": "markdown",
      "metadata": {
        "id": "sxWnWQa5CZmQ",
        "colab_type": "text"
      },
      "source": [
        "Compile the model with optimizer and loss function"
      ]
    },
    {
      "cell_type": "code",
      "metadata": {
        "id": "BVndGGr8CZAv",
        "colab_type": "code",
        "colab": {}
      },
      "source": [
        "CNNmodel.compile(optimizer='adam',\n",
        "              loss='sparse_categorical_crossentropy',\n",
        "              metrics=['accuracy'])"
      ],
      "execution_count": 0,
      "outputs": []
    },
    {
      "cell_type": "code",
      "metadata": {
        "id": "ITWWsN-DCvXH",
        "colab_type": "code",
        "colab": {}
      },
      "source": [
        "#Compile the model\n",
        "CNNmodel.fit(\n",
        "  train_images_CNN,\n",
        "  train_labels,\n",
        "  batch_size= 100,\n",
        "  epochs=15,\n",
        ")"
      ],
      "execution_count": 0,
      "outputs": []
    },
    {
      "cell_type": "code",
      "metadata": {
        "id": "MfLGFtE77Sgd",
        "colab_type": "code",
        "colab": {}
      },
      "source": [
        "#Evaluate Model Accuracy\n",
        "test_loss, test_acc = CNNmodel.evaluate(test_images_CNN, test_labels)\n",
        "\n",
        "print('Test accuracy:', test_acc)"
      ],
      "execution_count": 0,
      "outputs": []
    },
    {
      "cell_type": "code",
      "metadata": {
        "id": "aI7pECKSB03E",
        "colab_type": "code",
        "colab": {}
      },
      "source": [
        "CNN_predictions = CNNmodel.predict(test_images_CNN)\n",
        "print(CNN_predictions[0])\n",
        "\n",
        "print(np.argmax(CNN_predictions[0]))\n",
        "\n",
        "print('The true Lable for the image is    ',test_labels[0])"
      ],
      "execution_count": 0,
      "outputs": []
    },
    {
      "cell_type": "markdown",
      "metadata": {
        "id": "2HmCrXj4DHJ2",
        "colab_type": "text"
      },
      "source": [
        "Let's look at the 0th image, predictions, and prediction array. Correct prediction labels are blue and incorrect prediction labels are red. The number gives the percentage (out of 100) for the predicted label."
      ]
    },
    {
      "cell_type": "code",
      "metadata": {
        "id": "tzqZLpG-BqqL",
        "colab_type": "code",
        "colab": {}
      },
      "source": [
        "i = 4\n",
        "plt.figure(figsize=(6,3))\n",
        "plt.subplot(1,2,1)\n",
        "plot_image(i, CNN_predictions, test_labels, test_images)\n",
        "plt.subplot(1,2,2)\n",
        "plot_value_array(i, CNN_predictions,  test_labels)\n",
        "plt.show()"
      ],
      "execution_count": 0,
      "outputs": []
    },
    {
      "cell_type": "code",
      "metadata": {
        "id": "gzuVw-0ADe9j",
        "colab_type": "code",
        "colab": {}
      },
      "source": [
        "print(CNN_predictions[12])\n",
        "\n",
        "predicted_label = np.argmax(CNN_predictions[12])\n",
        "\n",
        "print('\\n')\n",
        "print(predicted_label)\n",
        "print(test_labels[12])"
      ],
      "execution_count": 0,
      "outputs": []
    },
    {
      "cell_type": "markdown",
      "metadata": {
        "id": "F-MUowhWQVMm",
        "colab_type": "text"
      },
      "source": [
        "**CNN accuracy is better than simple Deep Neural Network. Also It can be seen that prediction confidence of CNN model is more accurate that simple densely connected network. Convolutions extract and learn better features in the images. **"
      ]
    }
  ]
}